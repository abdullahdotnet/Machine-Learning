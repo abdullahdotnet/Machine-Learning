{
  "nbformat": 4,
  "nbformat_minor": 0,
  "metadata": {
    "colab": {
      "provenance": []
    },
    "kernelspec": {
      "name": "python3",
      "display_name": "Python 3"
    },
    "language_info": {
      "name": "python"
    }
  },
  "cells": [
    {
      "cell_type": "code",
      "source": [
        "import numpy as np\n",
        "import cv2\n",
        "import matplotlib.pyplot as plt"
      ],
      "metadata": {
        "id": "HTp2nO8waRV9"
      },
      "execution_count": null,
      "outputs": []
    },
    {
      "cell_type": "code",
      "execution_count": null,
      "metadata": {
        "id": "rAtZQZiiq7On"
      },
      "outputs": [],
      "source": [
        "def euclidean_distance(X, Y):\n",
        "    return np.sqrt(np.sum((X[:, None] - Y) ** 2, axis=-1))\n",
        "\n",
        "\n",
        "def initialize_centroids(data, k):\n",
        "    centroids_indices = np.random.choice(data.shape[0], k, replace=False)\n",
        "    centroids = data[centroids_indices]\n",
        "    return centroids\n",
        "\n",
        "\n",
        "def kmeans(data, k, max_iterations=100):\n",
        "    centroids = initialize_centroids(data, k)\n",
        "\n",
        "    for _ in range(max_iterations):\n",
        "        distances = euclidean_distance(data, centroids)\n",
        "        labels = np.argmin(distances, axis=1)\n",
        "\n",
        "        new_centroids = np.array([data[labels == i].mean(axis=0) for i in range(k)])\n",
        "\n",
        "        if np.allclose(centroids, new_centroids):\n",
        "            break\n",
        "\n",
        "        centroids = new_centroids\n",
        "\n",
        "    return centroids, labels\n",
        "def read_image(image_path):\n",
        "    image_array = cv2.imread(image_path)\n",
        "    return image_array"
      ]
    },
    {
      "cell_type": "code",
      "source": [
        "image1 = cv2.imread('/content/portrait-smiling-young-girl-using-mobile-phone.png')\n",
        "image2 = cv2.imread('/content/pexels-zoe-pappas-1006965.jpg')\n",
        "image3 = cv2.imread('/content/plugo_coding.webp')"
      ],
      "metadata": {
        "id": "DKQLWYDjj9wg"
      },
      "execution_count": null,
      "outputs": []
    },
    {
      "cell_type": "code",
      "source": [
        "k_values = [3, 10, 20]\n",
        "for k in k_values:\n",
        "\n",
        "    flattened_image1 = image1.reshape(-1, 3)\n",
        "    flattened_image2 = image2.reshape(-1, 3)\n",
        "    flattened_image3 = image3.reshape(-1, 3)\n",
        "\n",
        "\n",
        "    centroids1, labels1 = kmeans(flattened_image1, k)\n",
        "    centroids2, labels2 = kmeans(flattened_image2, k)\n",
        "    centroids3, labels3 = kmeans(flattened_image3, k)\n",
        "\n",
        "\n",
        "    clustered_image1 = centroids1[labels1].reshape(image1.shape)\n",
        "    clustered_image2 = centroids2[labels2].reshape(image2.shape)\n",
        "    clustered_image3 = centroids3[labels3].reshape(image3.shape)\n",
        "\n",
        "    plt.figure(figsize=(10, 5))\n",
        "    plt.subplot(1, 3, 1)\n",
        "    plt.imshow(cv2.cvtColor(clustered_image1.astype(np.uint8), cv2.COLOR_BGR2RGB))\n",
        "    plt.title('Image 1 (K={})'.format(k))\n",
        "    plt.axis('off')\n",
        "\n",
        "    plt.subplot(1, 3, 2)\n",
        "    plt.imshow(cv2.cvtColor(clustered_image2.astype(np.uint8), cv2.COLOR_BGR2RGB))\n",
        "    plt.title('Image 2 (K={})'.format(k))\n",
        "    plt.axis('off')\n",
        "\n",
        "    plt.subplot(1, 3, 3)\n",
        "    plt.imshow(cv2.cvtColor(clustered_image3.astype(np.uint8), cv2.COLOR_BGR2RGB))\n",
        "    plt.title('Image 3 (K={})'.format(k))\n",
        "    plt.axis('off')\n",
        "\n",
        "    plt.show()"
      ],
      "metadata": {
        "id": "9zW8HFhGkBaY"
      },
      "execution_count": null,
      "outputs": []
    }
  ]
}