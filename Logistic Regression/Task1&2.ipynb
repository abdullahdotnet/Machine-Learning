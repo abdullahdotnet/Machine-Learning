{
  "nbformat": 4,
  "nbformat_minor": 0,
  "metadata": {
    "colab": {
      "provenance": []
    },
    "kernelspec": {
      "name": "python3",
      "display_name": "Python 3"
    },
    "language_info": {
      "name": "python"
    }
  },
  "cells": [
    {
      "cell_type": "markdown",
      "source": [
        "## Implementing an AND gate using Logistic Regression"
      ],
      "metadata": {
        "id": "nevYdFgPgeC0"
      }
    },
    {
      "cell_type": "code",
      "source": [
        "import numpy as np\n",
        "import matplotlib.pyplot as plt"
      ],
      "metadata": {
        "id": "eztwvX5uhYs7"
      },
      "execution_count": 14,
      "outputs": []
    },
    {
      "cell_type": "code",
      "source": [
        "X = np.array([[0, 0],\n",
        "              [0, 1],\n",
        "              [1, 0],\n",
        "              [1, 1]])\n",
        "\n",
        "y = np.array([[0],\n",
        "              [0],\n",
        "              [0],\n",
        "              [1]])"
      ],
      "metadata": {
        "id": "dYSmufPGhWus"
      },
      "execution_count": 15,
      "outputs": []
    },
    {
      "cell_type": "code",
      "source": [
        "def sigmoid(z):\n",
        "    return 1 / (1 + np.exp(-z))"
      ],
      "metadata": {
        "id": "BjvSYjeKhhLz"
      },
      "execution_count": 16,
      "outputs": []
    },
    {
      "cell_type": "code",
      "source": [
        "def compute_cost(X, y, weights):\n",
        "    m = len(y)\n",
        "    h = sigmoid(np.dot(X, weights))\n",
        "    cost = -(1/m) * np.sum(y * np.log(h) + (1 - y) * np.log(1 - h))\n",
        "    return cost"
      ],
      "metadata": {
        "id": "LWQoqXCMhiL0"
      },
      "execution_count": 17,
      "outputs": []
    },
    {
      "cell_type": "code",
      "source": [
        "def gradient_descent(X, y, weights, learning_rate, num_iterations):\n",
        "    m = len(y)\n",
        "    cost_history = []\n",
        "\n",
        "    for i in range(num_iterations):\n",
        "        h = sigmoid(np.dot(X, weights))\n",
        "        weights -= learning_rate * (1/m) * np.dot(X.T, (h - y))\n",
        "        cost = compute_cost(X, y, weights)\n",
        "        cost_history.append(cost)\n",
        "\n",
        "    return weights, cost_history"
      ],
      "metadata": {
        "id": "eMsHQPmGhlur"
      },
      "execution_count": 18,
      "outputs": []
    },
    {
      "cell_type": "code",
      "source": [
        "def predict(X, weights):\n",
        "    return sigmoid(np.dot(X, weights)) >= 0.5"
      ],
      "metadata": {
        "id": "jqIyLPuaho07"
      },
      "execution_count": 19,
      "outputs": []
    },
    {
      "cell_type": "code",
      "execution_count": 20,
      "metadata": {
        "colab": {
          "base_uri": "https://localhost:8080/"
        },
        "id": "tm6JzzyOfuoI",
        "outputId": "370f3d53-d07e-4ae5-9f30-d9beb84f6390"
      },
      "outputs": [
        {
          "output_type": "stream",
          "name": "stdout",
          "text": [
            "Trained weights: [[-4.77370224]\n",
            " [ 3.03763559]\n",
            " [ 3.03763559]]\n",
            "Predictions: [[False]\n",
            " [False]\n",
            " [False]\n",
            " [ True]]\n",
            "Binary Predictions: [[0]\n",
            " [0]\n",
            " [0]\n",
            " [1]]\n"
          ]
        }
      ],
      "source": [
        "\n",
        "\n",
        "\n",
        "\n",
        "X_bias = np.c_[np.ones((X.shape[0], 1)), X]\n",
        "\n",
        "weights = np.zeros((X_bias.shape[1], 1))\n",
        "\n",
        "learning_rate = 0.1\n",
        "num_iterations = 1000\n",
        "\n",
        "weights, cost_history = gradient_descent(X_bias, y, weights, learning_rate, num_iterations)\n",
        "\n",
        "print(\"Trained weights:\", weights)\n",
        "\n",
        "\n",
        "\n",
        "predictions = predict(X_bias, weights)\n",
        "print(\"Predictions:\", predictions)\n",
        "\n",
        "predictions = predictions.astype(int)\n",
        "print(\"Binary Predictions:\", predictions)"
      ]
    },
    {
      "cell_type": "code",
      "source": [
        "def plot_decision_boundary(X, y, weights):\n",
        "    plt.figure(figsize=(8, 6))\n",
        "\n",
        "    plt.scatter(X[:, 1], X[:, 2], c=y.flatten(), cmap='bwr', edgecolors='k')\n",
        "\n",
        "    x_min, x_max = X[:, 1].min() - 0.1, X[:, 1].max() + 0.1\n",
        "    y_min, y_max = X[:, 2].min() - 0.1, X[:, 2].max() + 0.1\n",
        "    xx, yy = np.meshgrid(np.arange(x_min, x_max, 0.01),\n",
        "                         np.arange(y_min, y_max, 0.01))\n",
        "\n",
        "    Z = sigmoid(np.c_[np.ones((xx.ravel().shape[0], 1)), xx.ravel(), yy.ravel()].dot(weights))\n",
        "    Z = Z.reshape(xx.shape)\n",
        "\n",
        "    plt.contourf(xx, yy, Z, alpha=0.8, cmap='coolwarm', levels=[0, 0.5, 1])\n",
        "\n",
        "    plt.xlim(x_min, x_max)\n",
        "    plt.ylim(y_min, y_max)\n",
        "    plt.xlabel('X1')\n",
        "    plt.ylabel('X2')\n",
        "    plt.title('Decision Boundary')\n",
        "    plt.show()\n",
        "\n"
      ],
      "metadata": {
        "id": "ujvvDLumhq-z"
      },
      "execution_count": 21,
      "outputs": []
    },
    {
      "cell_type": "code",
      "source": [
        "plot_decision_boundary(X_bias, y, weights)"
      ],
      "metadata": {
        "colab": {
          "base_uri": "https://localhost:8080/",
          "height": 564
        },
        "id": "kNmhphmWfCys",
        "outputId": "7671949c-fe73-4c72-d174-bae0fbfac308"
      },
      "execution_count": 22,
      "outputs": [
        {
          "output_type": "display_data",
          "data": {
            "text/plain": [
              "<Figure size 800x600 with 1 Axes>"
            ],
            "image/png": "[encoded data removed]"
          },
          "metadata": {}
        }
      ]
    },
    {
      "cell_type": "markdown",
      "source": [
        "## Implementing an OR gate using Logistic Regression"
      ],
      "metadata": {
        "id": "eJLttCqVhzYL"
      }
    },
    {
      "cell_type": "code",
      "source": [
        "X = np.array([[0, 0],\n",
        "              [0, 1],\n",
        "              [1, 0],\n",
        "              [1, 1]])\n",
        "y = np.array([[0],\n",
        "              [1],\n",
        "              [1],\n",
        "              [1]])"
      ],
      "metadata": {
        "id": "kdpC6yrmh2JC"
      },
      "execution_count": 23,
      "outputs": []
    },
    {
      "cell_type": "code",
      "source": [
        "def sigmoid(z):\n",
        "    return 1 / (1 + np.exp(-z))"
      ],
      "metadata": {
        "id": "NFckT59viPVj"
      },
      "execution_count": 24,
      "outputs": []
    },
    {
      "cell_type": "code",
      "source": [
        "def compute_cost(X, y, weights):\n",
        "    m = len(y)\n",
        "    h = sigmoid(np.dot(X, weights))\n",
        "    cost = -(1/m) * np.sum(y * np.log(h) + (1 - y) * np.log(1 - h))\n",
        "    return cost"
      ],
      "metadata": {
        "id": "lBxoy-OMiY4j"
      },
      "execution_count": 25,
      "outputs": []
    },
    {
      "cell_type": "code",
      "source": [
        "def gradient_descent(X, y, weights, learning_rate, num_iterations):\n",
        "    m = len(y)\n",
        "    cost_history = []\n",
        "\n",
        "    for i in range(num_iterations):\n",
        "        h = sigmoid(np.dot(X, weights))\n",
        "        weights -= learning_rate * (1/m) * np.dot(X.T, (h - y))\n",
        "        cost = compute_cost(X, y, weights)\n",
        "        cost_history.append(cost)\n",
        "\n",
        "    return weights, cost_history"
      ],
      "metadata": {
        "id": "dgB_1ALjiay7"
      },
      "execution_count": 26,
      "outputs": []
    },
    {
      "cell_type": "code",
      "source": [
        "X_bias = np.c_[np.ones((X.shape[0], 1)), X]\n",
        "\n",
        "weights = np.zeros((X_bias.shape[1], 1))\n",
        "\n",
        "learning_rate = 0.1\n",
        "num_iterations = 1000\n",
        "\n",
        "weights, cost_history = gradient_descent(X_bias, y, weights, learning_rate, num_iterations)\n",
        "\n",
        "print(\"Trained weights:\", weights)\n",
        "\n",
        "# Evaluate the model\n",
        "def predict(X, weights):\n",
        "    return sigmoid(np.dot(X, weights)) >= 0.5\n",
        "\n",
        "predictions = predict(X_bias, weights)\n",
        "print(\"Predictions:\", predictions)\n",
        "\n",
        "predictions = predictions.astype(int)\n",
        "print(\"Binary Predictions:\", predictions)"
      ],
      "metadata": {
        "colab": {
          "base_uri": "https://localhost:8080/"
        },
        "id": "3VC9mG_hid9S",
        "outputId": "20cf12a1-3116-46d4-86b6-752d6ae9477a"
      },
      "execution_count": 27,
      "outputs": [
        {
          "output_type": "stream",
          "name": "stdout",
          "text": [
            "Trained weights: [[-1.46638916]\n",
            " [ 4.01152693]\n",
            " [ 4.01152693]]\n",
            "Predictions: [[False]\n",
            " [ True]\n",
            " [ True]\n",
            " [ True]]\n",
            "Binary Predictions: [[0]\n",
            " [1]\n",
            " [1]\n",
            " [1]]\n"
          ]
        }
      ]
    },
    {
      "cell_type": "code",
      "source": [
        "def plot_decision_boundary(X, y, weights):\n",
        "    plt.figure(figsize=(8, 6))\n",
        "\n",
        "    plt.scatter(X[:, 1], X[:, 2], c=y.flatten(), cmap='bwr', edgecolors='k')\n",
        "\n",
        "    x_min, x_max = X[:, 1].min() - 0.1, X[:, 1].max() + 0.1\n",
        "    y_min, y_max = X[:, 2].min() - 0.1, X[:, 2].max() + 0.1\n",
        "    xx, yy = np.meshgrid(np.arange(x_min, x_max, 0.01),\n",
        "                         np.arange(y_min, y_max, 0.01))\n",
        "\n",
        "    Z = sigmoid(np.c_[np.ones((xx.ravel().shape[0], 1)), xx.ravel(), yy.ravel()].dot(weights))\n",
        "    Z = Z.reshape(xx.shape)\n",
        "\n",
        "    plt.contourf(xx, yy, Z, alpha=0.8, cmap='coolwarm', levels=[0, 0.5, 1])\n",
        "\n",
        "    plt.xlim(x_min, x_max)\n",
        "    plt.ylim(y_min, y_max)\n",
        "    plt.xlabel('X1')\n",
        "    plt.ylabel('X2')\n",
        "    plt.title('Decision Boundary')\n",
        "    plt.show()\n",
        "\n",
        "plot_decision_boundary(X_bias, y, weights)\n"
      ],
      "metadata": {
        "colab": {
          "base_uri": "https://localhost:8080/",
          "height": 564
        },
        "id": "jsHkpRIjim5C",
        "outputId": "0b563511-6494-4b34-d4ac-f6454076b22c"
      },
      "execution_count": 28,
      "outputs": [
        {
          "output_type": "display_data",
          "data": {
            "text/plain": [
              "<Figure size 800x600 with 1 Axes>"
            ],
            "image/png": "[encoded data removed]"
          },
          "metadata": {}
        }
      ]
    }
  ]
}