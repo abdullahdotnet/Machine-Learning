{
  "cells": [
    {
      "cell_type": "markdown",
      "metadata": {
        "id": "TUf09iGQrc9L"
      },
      "source": [
        "# 3. OCR using Logistic Regression"
      ]
    },
    {
      "cell_type": "code",
      "execution_count": 3,
      "metadata": {
        "id": "taIcGAS_rc9P"
      },
      "outputs": [],
      "source": [
        "import numpy as np\n",
        "import matplotlib.pyplot as plt"
      ]
    },
    {
      "cell_type": "code",
      "execution_count": 4,
      "metadata": {
        "colab": {
          "base_uri": "https://localhost:8080/"
        },
        "id": "TTDoHQdYrc9Q",
        "outputId": "5da2782a-e7af-4cbd-b574-f6ce08c0ec30"
      },
      "outputs": [
        {
          "output_type": "stream",
          "name": "stdout",
          "text": [
            "(500, 256)\n",
            "(100, 256)\n"
          ]
        }
      ],
      "source": [
        "train_x = np.loadtxt('trainX.txt')\n",
        "train_y = np.loadtxt('trainY.txt')\n",
        "test_x = np.loadtxt('testX.txt')\n",
        "test_y = np.loadtxt('testY.txt')\n",
        "print(train_x.shape)\n",
        "print(test_x.shape)"
      ]
    },
    {
      "cell_type": "code",
      "execution_count": 5,
      "metadata": {
        "id": "7pVeDrUtrc9R"
      },
      "outputs": [],
      "source": [
        "train_x = np.hstack((np.ones((train_x.shape[0], 1)), train_x))\n",
        "test_x = np.hstack((np.ones((test_x.shape[0], 1)), test_x))"
      ]
    },
    {
      "cell_type": "code",
      "execution_count": 6,
      "metadata": {
        "id": "nYF4N5-orc9R"
      },
      "outputs": [],
      "source": [
        "train_y = np.where(train_y == 2, 0, 1)\n",
        "test_y = np.where(test_y == 2, 0, 1)"
      ]
    },
    {
      "cell_type": "code",
      "execution_count": 7,
      "metadata": {
        "id": "0UMyxsrZrc9S"
      },
      "outputs": [],
      "source": [
        "def sigmoid(z):\n",
        "    return 1 / (1 + np.exp(-z))\n",
        "\n",
        "def compute_cost(X, y, weights):\n",
        "    m = X.shape[0]\n",
        "    h = sigmoid(np.dot(X, weights))\n",
        "    cost = -1/m * (np.dot(y, np.log(h)) + np.dot((1-y), np.log(1-h)))\n",
        "    return cost"
      ]
    },
    {
      "cell_type": "code",
      "execution_count": 8,
      "metadata": {
        "id": "46HJIuHfrc9T"
      },
      "outputs": [],
      "source": [
        "def predict(X, weights):\n",
        "    return sigmoid(np.dot(X, weights)) >= 0.5"
      ]
    },
    {
      "cell_type": "code",
      "execution_count": 9,
      "metadata": {
        "id": "8JW6aEybrc9T"
      },
      "outputs": [],
      "source": [
        "def gradient_descent(X, y, weights, eta, num_iterations):\n",
        "    m = X.shape[0]\n",
        "    for i in range(num_iterations):\n",
        "        h = sigmoid(np.dot(X, weights))\n",
        "        gradient = np.dot(X.T, (h - y)) / m\n",
        "        weights -= eta * gradient\n",
        "    return weights"
      ]
    },
    {
      "cell_type": "code",
      "execution_count": 10,
      "metadata": {
        "id": "cwOMG8Czrc9U"
      },
      "outputs": [],
      "source": [
        "def train_model(X, y, eta, num_iterations=6000, target_accuracy=0.9):\n",
        "    m, n = X.shape\n",
        "    np.random.seed(25)\n",
        "    weights = np.random.rand(n)\n",
        "    for i in range(num_iterations):\n",
        "        weights = gradient_descent(X, y, weights, eta, 1)\n",
        "        predictions = predict(X, weights)\n",
        "        accuracy = np.mean(predictions == y)\n",
        "        if accuracy >= target_accuracy:\n",
        "            print(f\"Reached target accuracy: {accuracy*100:.2f}% at iteration {i+1}\")\n",
        "            break\n",
        "    return weights, accuracy"
      ]
    },
    {
      "cell_type": "code",
      "execution_count": 11,
      "metadata": {
        "colab": {
          "base_uri": "https://localhost:8080/"
        },
        "id": "N03GBP1Orc9U",
        "outputId": "f9c106d8-901d-454a-f511-8924c31d5496"
      },
      "outputs": [
        {
          "output_type": "stream",
          "name": "stdout",
          "text": [
            "Reached target accuracy: 90.20% at iteration 48\n",
            "Learning Rate: 0.1, Training Accuracy: 90.20%, Testing Accuracy: 98.00%\n",
            "\n",
            "Reached target accuracy: 90.00% at iteration 486\n",
            "Learning Rate: 0.01, Training Accuracy: 90.00%, Testing Accuracy: 98.00%\n",
            "\n",
            "Reached target accuracy: 90.00% at iteration 4862\n",
            "Learning Rate: 0.001, Training Accuracy: 90.00%, Testing Accuracy: 98.00%\n",
            "\n"
          ]
        }
      ],
      "source": [
        "learning_rates = [0.1, 0.01, 0.001]\n",
        "results = {}\n",
        "\n",
        "for eta in learning_rates:\n",
        "    weights, train_accuracy = train_model(train_x, train_y, eta)\n",
        "    test_predictions = predict(test_x, weights)\n",
        "    test_accuracy = np.mean(test_predictions == test_y)\n",
        "    results[eta] = (train_accuracy, test_accuracy, weights)\n",
        "    print(f\"Learning Rate: {eta}, Training Accuracy: {train_accuracy*100:.2f}%, Testing Accuracy: {test_accuracy*100:.2f}%\")\n",
        "    print()\n",
        "\n"
      ]
    },
    {
      "cell_type": "code",
      "execution_count": 12,
      "metadata": {
        "colab": {
          "base_uri": "https://localhost:8080/"
        },
        "id": "L-ygHsM-rc9U",
        "outputId": "3d77b235-0a9f-49c4-8061-d928b778c83e"
      },
      "outputs": [
        {
          "output_type": "stream",
          "name": "stdout",
          "text": [
            "Final Results:\n",
            "Learning Rate: 0.1, Final Training Accuracy: 90.20%, Final Testing Accuracy: 98.00%\n",
            "Learning Rate: 0.01, Final Training Accuracy: 90.00%, Final Testing Accuracy: 98.00%\n",
            "Learning Rate: 0.001, Final Training Accuracy: 90.00%, Final Testing Accuracy: 98.00%\n"
          ]
        }
      ],
      "source": [
        "print(\"Final Results:\")\n",
        "# Print final results\n",
        "for eta, (train_accuracy, test_accuracy, weights) in results.items():\n",
        "    print(f\"Learning Rate: {eta}, Final Training Accuracy: {train_accuracy*100:.2f}%, Final Testing Accuracy: {test_accuracy*100:.2f}%\")"
      ]
    }
  ],
  "metadata": {
    "kernelspec": {
      "display_name": "mlenv",
      "language": "python",
      "name": "mlenv"
    },
    "language_info": {
      "codemirror_mode": {
        "name": "ipython",
        "version": 3
      },
      "file_extension": ".py",
      "mimetype": "text/x-python",
      "name": "python",
      "nbconvert_exporter": "python",
      "pygments_lexer": "ipython3",
      "version": "3.11.3"
    },
    "colab": {
      "provenance": []
    }
  },
  "nbformat": 4,
  "nbformat_minor": 0
}